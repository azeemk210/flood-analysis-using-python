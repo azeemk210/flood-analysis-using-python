{
 "cells": [
  {
   "cell_type": "code",
   "execution_count": 1,
   "metadata": {},
   "outputs": [],
   "source": [
    "#setup\n"
   ]
  },
  {
   "cell_type": "code",
   "execution_count": 6,
   "metadata": {},
   "outputs": [
    {
     "name": "stdout",
     "output_type": "stream",
     "text": [
      "Requirement already satisfied: osmnx in /Users/khan.azeemakgmail.com/anaconda3/lib/python3.10/site-packages (1.9.3)\n",
      "Requirement already satisfied: scipy in /Users/khan.azeemakgmail.com/anaconda3/lib/python3.10/site-packages (1.10.0)\n",
      "Requirement already satisfied: xarray in /Users/khan.azeemakgmail.com/anaconda3/lib/python3.10/site-packages (2022.11.0)\n",
      "Collecting rioxarray\n",
      "  Downloading rioxarray-0.15.5-py3-none-any.whl (60 kB)\n",
      "\u001b[2K     \u001b[90m━━━━━━━━━━━━━━━━━━━━━━━━━━━━━━━━━━━━━━━\u001b[0m \u001b[32m60.5/60.5 kB\u001b[0m \u001b[31m972.7 kB/s\u001b[0m eta \u001b[36m0:00:00\u001b[0m \u001b[36m0:00:01\u001b[0m\n",
      "\u001b[?25hRequirement already satisfied: matplotlib in /Users/khan.azeemakgmail.com/anaconda3/lib/python3.10/site-packages (3.7.0)\n",
      "Requirement already satisfied: datashader in /Users/khan.azeemakgmail.com/anaconda3/lib/python3.10/site-packages (0.14.4)\n",
      "Requirement already satisfied: shapely>=2.0 in /Users/khan.azeemakgmail.com/anaconda3/lib/python3.10/site-packages (from osmnx) (2.0.1)\n",
      "Requirement already satisfied: pandas>=1.1 in /Users/khan.azeemakgmail.com/anaconda3/lib/python3.10/site-packages (from osmnx) (2.2.0)\n",
      "Requirement already satisfied: networkx>=2.5 in /Users/khan.azeemakgmail.com/anaconda3/lib/python3.10/site-packages (from osmnx) (2.8.4)\n",
      "Requirement already satisfied: requests>=2.27 in /Users/khan.azeemakgmail.com/anaconda3/lib/python3.10/site-packages (from osmnx) (2.28.1)\n",
      "Requirement already satisfied: geopandas>=0.12 in /Users/khan.azeemakgmail.com/anaconda3/lib/python3.10/site-packages (from osmnx) (0.13.2)\n",
      "Requirement already satisfied: numpy>=1.20 in /Users/khan.azeemakgmail.com/anaconda3/lib/python3.10/site-packages (from osmnx) (1.23.5)\n",
      "Requirement already satisfied: packaging>=21.0 in /Users/khan.azeemakgmail.com/anaconda3/lib/python3.10/site-packages (from xarray) (22.0)\n",
      "Requirement already satisfied: rasterio>=1.3 in /Users/khan.azeemakgmail.com/anaconda3/lib/python3.10/site-packages (from rioxarray) (1.3.7)\n",
      "Requirement already satisfied: pyproj>=3.3 in /Users/khan.azeemakgmail.com/anaconda3/lib/python3.10/site-packages (from rioxarray) (3.6.0)\n",
      "Requirement already satisfied: cycler>=0.10 in /Users/khan.azeemakgmail.com/anaconda3/lib/python3.10/site-packages (from matplotlib) (0.11.0)\n",
      "Requirement already satisfied: fonttools>=4.22.0 in /Users/khan.azeemakgmail.com/anaconda3/lib/python3.10/site-packages (from matplotlib) (4.25.0)\n",
      "Requirement already satisfied: python-dateutil>=2.7 in /Users/khan.azeemakgmail.com/anaconda3/lib/python3.10/site-packages (from matplotlib) (2.8.2)\n",
      "Requirement already satisfied: kiwisolver>=1.0.1 in /Users/khan.azeemakgmail.com/anaconda3/lib/python3.10/site-packages (from matplotlib) (1.4.4)\n",
      "Requirement already satisfied: contourpy>=1.0.1 in /Users/khan.azeemakgmail.com/anaconda3/lib/python3.10/site-packages (from matplotlib) (1.0.5)\n",
      "Requirement already satisfied: pyparsing>=2.3.1 in /Users/khan.azeemakgmail.com/anaconda3/lib/python3.10/site-packages (from matplotlib) (3.0.9)\n",
      "Requirement already satisfied: pillow>=6.2.0 in /Users/khan.azeemakgmail.com/anaconda3/lib/python3.10/site-packages (from matplotlib) (9.4.0)\n",
      "Requirement already satisfied: toolz in /Users/khan.azeemakgmail.com/anaconda3/lib/python3.10/site-packages (from datashader) (0.12.0)\n",
      "Requirement already satisfied: param in /Users/khan.azeemakgmail.com/anaconda3/lib/python3.10/site-packages (from datashader) (1.12.3)\n",
      "Requirement already satisfied: pyct in /Users/khan.azeemakgmail.com/anaconda3/lib/python3.10/site-packages (from datashader) (0.5.0)\n",
      "Requirement already satisfied: dask in /Users/khan.azeemakgmail.com/anaconda3/lib/python3.10/site-packages (from datashader) (2024.2.0)\n",
      "Requirement already satisfied: datashape in /Users/khan.azeemakgmail.com/anaconda3/lib/python3.10/site-packages (from datashader) (0.5.4)\n",
      "Requirement already satisfied: numba>=0.51 in /Users/khan.azeemakgmail.com/anaconda3/lib/python3.10/site-packages (from datashader) (0.56.4)\n",
      "Requirement already satisfied: colorcet in /Users/khan.azeemakgmail.com/anaconda3/lib/python3.10/site-packages (from datashader) (3.0.1)\n",
      "Requirement already satisfied: fiona>=1.8.19 in /Users/khan.azeemakgmail.com/anaconda3/lib/python3.10/site-packages (from geopandas>=0.12->osmnx) (1.9.4.post1)\n",
      "Requirement already satisfied: setuptools in /Users/khan.azeemakgmail.com/anaconda3/lib/python3.10/site-packages (from numba>=0.51->datashader) (65.6.3)\n",
      "Requirement already satisfied: llvmlite<0.40,>=0.39.0dev0 in /Users/khan.azeemakgmail.com/anaconda3/lib/python3.10/site-packages (from numba>=0.51->datashader) (0.39.1)\n",
      "Requirement already satisfied: tzdata>=2022.7 in /Users/khan.azeemakgmail.com/anaconda3/lib/python3.10/site-packages (from pandas>=1.1->osmnx) (2024.1)\n",
      "Requirement already satisfied: pytz>=2020.1 in /Users/khan.azeemakgmail.com/anaconda3/lib/python3.10/site-packages (from pandas>=1.1->osmnx) (2022.7)\n",
      "Requirement already satisfied: certifi in /Users/khan.azeemakgmail.com/anaconda3/lib/python3.10/site-packages (from pyproj>=3.3->rioxarray) (2023.7.22)\n",
      "Requirement already satisfied: six>=1.5 in /Users/khan.azeemakgmail.com/anaconda3/lib/python3.10/site-packages (from python-dateutil>=2.7->matplotlib) (1.16.0)\n",
      "Requirement already satisfied: cligj>=0.5 in /Users/khan.azeemakgmail.com/anaconda3/lib/python3.10/site-packages (from rasterio>=1.3->rioxarray) (0.7.2)\n",
      "Requirement already satisfied: click>=4.0 in /Users/khan.azeemakgmail.com/anaconda3/lib/python3.10/site-packages (from rasterio>=1.3->rioxarray) (8.1.7)\n",
      "Requirement already satisfied: snuggs>=1.4.1 in /Users/khan.azeemakgmail.com/anaconda3/lib/python3.10/site-packages (from rasterio>=1.3->rioxarray) (1.4.7)\n",
      "Requirement already satisfied: affine in /Users/khan.azeemakgmail.com/anaconda3/lib/python3.10/site-packages (from rasterio>=1.3->rioxarray) (2.4.0)\n",
      "Requirement already satisfied: click-plugins in /Users/khan.azeemakgmail.com/anaconda3/lib/python3.10/site-packages (from rasterio>=1.3->rioxarray) (1.1.1)\n",
      "Requirement already satisfied: attrs in /Users/khan.azeemakgmail.com/anaconda3/lib/python3.10/site-packages (from rasterio>=1.3->rioxarray) (22.1.0)\n",
      "Requirement already satisfied: urllib3<1.27,>=1.21.1 in /Users/khan.azeemakgmail.com/anaconda3/lib/python3.10/site-packages (from requests>=2.27->osmnx) (1.26.14)\n",
      "Requirement already satisfied: idna<4,>=2.5 in /Users/khan.azeemakgmail.com/anaconda3/lib/python3.10/site-packages (from requests>=2.27->osmnx) (3.4)\n",
      "Requirement already satisfied: charset-normalizer<3,>=2 in /Users/khan.azeemakgmail.com/anaconda3/lib/python3.10/site-packages (from requests>=2.27->osmnx) (2.0.4)\n",
      "Requirement already satisfied: pyyaml>=5.3.1 in /Users/khan.azeemakgmail.com/anaconda3/lib/python3.10/site-packages (from dask->datashader) (6.0)\n",
      "Requirement already satisfied: fsspec>=2021.09.0 in /Users/khan.azeemakgmail.com/anaconda3/lib/python3.10/site-packages (from dask->datashader) (2022.11.0)\n",
      "Requirement already satisfied: importlib-metadata>=4.13.0 in /Users/khan.azeemakgmail.com/anaconda3/lib/python3.10/site-packages (from dask->datashader) (7.0.1)\n",
      "Requirement already satisfied: cloudpickle>=1.5.0 in /Users/khan.azeemakgmail.com/anaconda3/lib/python3.10/site-packages (from dask->datashader) (2.0.0)\n",
      "Requirement already satisfied: partd>=1.2.0 in /Users/khan.azeemakgmail.com/anaconda3/lib/python3.10/site-packages (from dask->datashader) (1.2.0)\n",
      "Requirement already satisfied: multipledispatch>=0.4.7 in /Users/khan.azeemakgmail.com/anaconda3/lib/python3.10/site-packages (from datashape->datashader) (0.6.0)\n",
      "Requirement already satisfied: zipp>=0.5 in /Users/khan.azeemakgmail.com/anaconda3/lib/python3.10/site-packages (from importlib-metadata>=4.13.0->dask->datashader) (3.11.0)\n",
      "Requirement already satisfied: locket in /Users/khan.azeemakgmail.com/anaconda3/lib/python3.10/site-packages (from partd>=1.2.0->dask->datashader) (1.0.0)\n",
      "Installing collected packages: rioxarray\n",
      "Successfully installed rioxarray-0.15.5\n"
     ]
    }
   ],
   "source": [
    "!pip install osmnx scipy xarray rioxarray matplotlib datashader"
   ]
  },
  {
   "cell_type": "code",
   "execution_count": null,
   "metadata": {},
   "outputs": [],
   "source": []
  }
 ],
 "metadata": {
  "kernelspec": {
   "display_name": "Python 3",
   "language": "python",
   "name": "python3"
  },
  "language_info": {
   "codemirror_mode": {
    "name": "ipython",
    "version": 3
   },
   "file_extension": ".py",
   "mimetype": "text/x-python",
   "name": "python",
   "nbconvert_exporter": "python",
   "pygments_lexer": "ipython3",
   "version": "3.9.6"
  },
  "orig_nbformat": 4
 },
 "nbformat": 4,
 "nbformat_minor": 2
}
